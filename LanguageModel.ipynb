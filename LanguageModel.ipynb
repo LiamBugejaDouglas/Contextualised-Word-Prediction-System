{
 "cells": [
  {
   "cell_type": "code",
   "execution_count": null,
   "metadata": {},
   "outputs": [],
   "source": [
    "from transformers import AutoTokenizer, TFRobertaForMaskedLM\n",
    "import tensorflow as tf\n",
    "import pyaudio\n",
    "import wave\n",
    "from pydub import AudioSegment\n",
    "import speech_recognition as sr\n",
    "from tensorflow.keras.models import load_model\n",
    "import cv2 as cv\n",
    "import numpy as np\n",
    "import os"
   ]
  },
  {
   "cell_type": "code",
   "execution_count": null,
   "metadata": {},
   "outputs": [],
   "source": [
    "tokenizer = AutoTokenizer.from_pretrained(\"roberta-base\")\n",
    "model = TFRobertaForMaskedLM.from_pretrained(\"roberta-base\")"
   ]
  },
  {
   "cell_type": "code",
   "execution_count": null,
   "metadata": {},
   "outputs": [],
   "source": [
    "inputs = tokenizer(\"Can i have something to <mask>\", return_tensors=\"tf\")\n",
    "logits = model(**inputs).logits\n",
    "# retrieve index of <mask>\n",
    "mask_token_index = tf.where((inputs.input_ids == tokenizer.mask_token_id)[0])\n",
    "selected_logits = tf.gather_nd(logits[0], indices=mask_token_index)\n",
    "predicted_token_id = tf.math.argmax(selected_logits, axis=-1)\n",
    "tokenizer.decode(predicted_token_id)"
   ]
  },
  {
   "cell_type": "code",
   "execution_count": null,
   "metadata": {},
   "outputs": [],
   "source": [
    "def record_audio():   \n",
    "    audio = pyaudio.PyAudio()\n",
    "    stream = audio.open(format=pyaudio.paInt16, \n",
    "                        channels=1, \n",
    "                        rate=44100, \n",
    "                        input=True, \n",
    "                        frames_per_buffer=1024)\n",
    "\n",
    "    frames = []\n",
    "\n",
    "    try:\n",
    "        print(\"Recording Started\")\n",
    "        while True:\n",
    "            data = stream.read(1024)\n",
    "            frames.append(data)\n",
    "    except KeyboardInterrupt:\n",
    "        print(\"Recording Stopped\")\n",
    "        pass\n",
    "\n",
    "    stream.stop_stream()\n",
    "    stream.close()\n",
    "    audio.terminate()\n",
    "\n",
    "    sound_file = wave.open(\"recording.wav\", \"wb\")\n",
    "    sound_file.setnchannels(1)\n",
    "    sound_file.setsampwidth(audio.get_sample_size(pyaudio.paInt16))\n",
    "    sound_file.setframerate(44100)\n",
    "    sound_file.writeframes(b''.join(frames))"
   ]
  },
  {
   "cell_type": "code",
   "execution_count": null,
   "metadata": {},
   "outputs": [],
   "source": [
    "def get_audio_text():\n",
    "    r = sr.Recognizer()\n",
    "\n",
    "    with sr.AudioFile('recording.wav') as source:\n",
    "        audio_text = r.listen(source)\n",
    "    \n",
    "\n",
    "    return r.recognize_google(audio_text, show_all=False) + \".\""
   ]
  },
  {
   "cell_type": "code",
   "execution_count": null,
   "metadata": {},
   "outputs": [],
   "source": [
    "def get_room_classification():\n",
    "\n",
    "    model = load_model('models/VGG19-Classification.h5')  \n",
    "    img = cv.imread('kitchen_test.jpg')\n",
    "    resize = tf.image.resize(img, (224, 224))\n",
    "    input_image = np.expand_dims(resize / 255, 0)\n",
    "    yhat = model.predict(input_image)\n",
    "    predicted_class_index = np.argmax(yhat)\n",
    "    labels = ['Bathroom', 'Bedroom', 'Dinning', 'Kitchen', 'Living Room']\n",
    "    predicted_label = labels[predicted_class_index]\n",
    "    final= \"Currently in the \"+ predicted_label + \".\"\n",
    "\n",
    "    return final\n",
    "    "
   ]
  },
  {
   "cell_type": "code",
   "execution_count": null,
   "metadata": {},
   "outputs": [],
   "source": [
    "def final():\n",
    "\n",
    "    record_audio()\n",
    "    audio_text = get_audio_text()\n",
    "    room_class = get_room_classification()\n",
    "    user_text = \"Can I have something to\"\n",
    "\n",
    "    final = room_class+\" \"+audio_text + \" \"+user_text + \" <mask>\" \n",
    "\n",
    "    print(final)\n",
    "\n",
    "    inputs = tokenizer(final, return_tensors=\"tf\")\n",
    "    logits = model(**inputs).logits\n",
    "    # retrieve index of <mask>\n",
    "    mask_token_index = tf.where((inputs.input_ids == tokenizer.mask_token_id)[0])\n",
    "    selected_logits = tf.gather_nd(logits[0], indices=mask_token_index)\n",
    "    predicted_token_id = tf.math.argmax(selected_logits, axis=-1)\n",
    "    print(\"Precited word: \" +tokenizer.decode(predicted_token_id))"
   ]
  }
 ],
 "metadata": {
  "kernelspec": {
   "display_name": "FinalFYP",
   "language": "python",
   "name": "python3"
  },
  "language_info": {
   "codemirror_mode": {
    "name": "ipython",
    "version": 3
   },
   "file_extension": ".py",
   "mimetype": "text/x-python",
   "name": "python",
   "nbconvert_exporter": "python",
   "pygments_lexer": "ipython3",
   "version": "3.9.16"
  },
  "orig_nbformat": 4
 },
 "nbformat": 4,
 "nbformat_minor": 2
}
